{
  "cells": [
    {
      "cell_type": "markdown",
      "metadata": {
        "id": "view-in-github",
        "colab_type": "text"
      },
      "source": [
        "<a href=\"https://colab.research.google.com/github/itsLawrenceChao/USER/blob/master/docs/llm-practical/code/OpenAI_Agents_SDK_tutorial.ipynb\" target=\"_parent\"><img src=\"https://colab.research.google.com/assets/colab-badge.svg\" alt=\"Open In Colab\"/></a>"
      ]
    },
    {
      "cell_type": "markdown",
      "metadata": {
        "id": "yqtXKikoD6tE"
      },
      "source": [
        "# OpenAI Agents SDK 多代理系統簡介\n",
        "\n",
        "OpenAI 的 **Agents SDK** 是一套設計來簡化多代理人（multi-agent）工作流程的工具，讓開發者能夠快速建立由多個 AI 代理人協同運作的系統。\n",
        "\n",
        "## 主要特點\n",
        "\n",
        "- **Agents 定義**  \n",
        "  您可以根據不同任務建立不同角色的代理人，例如客服專員、旅行規劃師或當地專家，每個代理人負責特定任務。\n",
        "\n",
        "- **Handoffs（交接）**  \n",
        "  系統能智能地在不同代理人之間轉交控制權。例如，當主要代理人完成初步任務後，會自動將控制權交接給更專精的代理人來補充細節。\n",
        "\n",
        "- **Guardrails（安全檢查）**  \n",
        "  內建可配置的安全檢查機制，對輸入與輸出進行驗證，確保資料正確與安全，避免因輸入錯誤而產生不預期的問題。\n",
        "\n",
        "- **Tracing & Observability（追蹤與可觀測性）**  \n",
        "  提供視覺化工具，讓開發者可以追蹤代理人的執行流程與交接路徑，有助於除錯與效能優化。"
      ]
    },
    {
      "cell_type": "code",
      "execution_count": null,
      "metadata": {
        "colab": {
          "base_uri": "https://localhost:8080/"
        },
        "id": "nO92rbStyvJx",
        "outputId": "b7d581cd-11a3-496a-976f-8699156a7f19"
      },
      "outputs": [
        {
          "name": "stdout",
          "output_type": "stream",
          "text": [
            "\u001b[?25l   \u001b[90m━━━━━━━━━━━━━━━━━━━━━━━━━━━━━━━━━━━━━━━━\u001b[0m \u001b[32m0.0/98.9 kB\u001b[0m \u001b[31m?\u001b[0m eta \u001b[36m-:--:--\u001b[0m\r\u001b[2K   \u001b[90m━━━━━━━━━━━━━━━━━━━━━━━━━━━━━━━━━━━━━━━━\u001b[0m \u001b[32m98.9/98.9 kB\u001b[0m \u001b[31m2.8 MB/s\u001b[0m eta \u001b[36m0:00:00\u001b[0m\n",
            "\u001b[2K   \u001b[90m━━━━━━━━━━━━━━━━━━━━━━━━━━━━━━━━━━━━━━━━\u001b[0m \u001b[32m128.6/128.6 kB\u001b[0m \u001b[31m6.1 MB/s\u001b[0m eta \u001b[36m0:00:00\u001b[0m\n",
            "\u001b[2K   \u001b[90m━━━━━━━━━━━━━━━━━━━━━━━━━━━━━━━━━━━━━━━━\u001b[0m \u001b[32m606.1/606.1 kB\u001b[0m \u001b[31m18.7 MB/s\u001b[0m eta \u001b[36m0:00:00\u001b[0m\n",
            "\u001b[?25h"
          ]
        }
      ],
      "source": [
        "!pip install openai-agents -q"
      ]
    },
    {
      "cell_type": "markdown",
      "metadata": {
        "id": "tnYrMEKW2C0S"
      },
      "source": [
        "## 註冊 OpenAI platform\n",
        "雖然本教學示範使用 Groq 作為免費的模型後端，但我們依然建議你在 [OpenAI platform](https://platform.openai.com/) 建立一個專案，因為 Agents SDK 提供了 Tracing（可觀測性）功能，能將每一次代理人的互動紀錄上傳到 OpenAI 後台進行視覺化與除錯。"
      ]
    },
    {
      "cell_type": "code",
      "execution_count": null,
      "metadata": {
        "id": "HmxpMRt9vIi6"
      },
      "outputs": [],
      "source": [
        "from agents import set_tracing_export_api_key\n",
        "\n",
        "# 如果不想上傳到 OpenAI，就保持空字串\n",
        "set_tracing_export_api_key('YourOpenAIKey') # 請自行填入"
      ]
    },
    {
      "cell_type": "markdown",
      "metadata": {
        "id": "O8zuRXMP0q23"
      },
      "source": [
        "## 註冊 Groq(免費LLM方案)\n",
        "如果手邊沒有付費 OpenAI 的 LLM 模型 API 不妨可以使用免費的資源先玩玩看。[Groq](https://console.groq.com/login) 的使用方式與介紹可以參考另一篇文章。這一步驟主要是申請API key，因為 Agents SDK 也能整合其他業者的模型，只要有提供類似 Chat Completions 的 API 端點都能相容。除了Groq外也能使用像是 GitHub Models、Google Gemini、Ollama等。\n",
        "\n",
        "- [Groq 使用教學](https://andy6804tw.github.io/crazyai-llm/free-llm-api-integration-resources/groq-tutorial/)"
      ]
    },
    {
      "cell_type": "code",
      "execution_count": null,
      "metadata": {
        "id": "r1BBeVTH-6R7"
      },
      "outputs": [],
      "source": [
        "GROQ_API_KEY = 'YourGroqKey' # 請自行填入"
      ]
    },
    {
      "cell_type": "markdown",
      "metadata": {
        "id": "g7JpUFVtdjJS"
      },
      "source": [
        "## Hello world example\n",
        "在這個範例中，我們建立一個最簡單的「助理代理人」，並使用 Groq 提供的免費模型來回答問題。"
      ]
    },
    {
      "cell_type": "code",
      "execution_count": null,
      "metadata": {
        "id": "cvDh9yr00iDN"
      },
      "outputs": [],
      "source": [
        "from agents import Agent, Runner, AsyncOpenAI, OpenAIChatCompletionsModel\n",
        "\n",
        "# 初始化 Groq Client\n",
        "groq_client = AsyncOpenAI(\n",
        "    base_url = 'https://api.groq.com/openai/v1',\n",
        "    api_key=GROQ_API_KEY, # 填入對應的金鑰\n",
        ")\n",
        "\n",
        "# 建立一個簡單的助理代理人\n",
        "agent = Agent(\n",
        "    name=\"Assistant\",\n",
        "    instructions=\"你是一位有用的助理，請使用繁體中文回答問題。\",\n",
        "    model=OpenAIChatCompletionsModel(\n",
        "        model=\"llama3-8b-8192\", # 指定使用 Groq 上的 llama3-8b-8192 模型\n",
        "        openai_client=groq_client,\n",
        "    )\n",
        ")"
      ]
    },
    {
      "cell_type": "code",
      "execution_count": null,
      "metadata": {
        "colab": {
          "base_uri": "https://localhost:8080/"
        },
        "id": "1FURP2U3y5X-",
        "outputId": "1cf7bcb9-88bf-4fd9-ff57-cf70b1a8e32a"
      },
      "outputs": [
        {
          "name": "stdout",
          "output_type": "stream",
          "text": [
            "費式數列(Fibonacci sequence)是一種非常有名的數學概念，它是指一個數列，其中每個元素都是前面兩個元素的和。 Python 中可以使用以下程式碼來實現費式數列：\n",
            "\n",
            "```python\n",
            "def fibonacci(n):\n",
            "    if n <= 0:\n",
            "        return \"Input should be a positive integer.\"\n",
            "    elif n == 1:\n",
            "        return [0]\n",
            "    elif n == 2:\n",
            "        return [0, 1]\n",
            "    else:\n",
            "        fib_seq = [0, 1]\n",
            "        for i in range(2, n):\n",
            "            fib_seq.append(fib_seq[i-1] + fib_seq[i-2])\n",
            "        return fib_seq\n",
            "\n",
            "num = int(input(\"請輸入您想要計算的費式數列長度：\"))\n",
            "print(fibonacci(num))\n",
            "```\n",
            "\n",
            "這個程式碼使用了迴圈來計算費式數列，每次迴圈都將前面兩個元素的和加到數列中。當輸入的數量大於2時-program will calculate the Fibonacci sequence up to the nth number.\n",
            "\n",
            "你可以在命令提示符（command prompt）或Python shell中執行這個程式碼，並輸入一個正整數來計算費式數列。例如，如果你輸入5，那麼程式碼將輸出費式數列 `[0, 1, 1, 2, 3]`。\n"
          ]
        }
      ],
      "source": [
        "# 輸入提問給代理人\n",
        "result = await Runner.run(agent, \"用Python實現費式數列\")\n",
        "print(result.final_output)"
      ]
    },
    {
      "cell_type": "markdown",
      "metadata": {
        "id": "eqgC1y5vd05h"
      },
      "source": [
        "## 範例二：Handoffs（交接）範例\n",
        "此範例示範如何利用 handoff 功能在多個代理人之間進行任務轉交。根據使用者的問題屬性，自動分流到「英文老師」或「歷史老師」。"
      ]
    },
    {
      "cell_type": "code",
      "execution_count": null,
      "metadata": {
        "colab": {
          "base_uri": "https://localhost:8080/"
        },
        "id": "-GFR5NKNy5bn",
        "outputId": "b11d6d47-5d83-4469-97f7-3dd95b2f8f70"
      },
      "outputs": [
        {
          "name": "stdout",
          "output_type": "stream",
          "text": [
            "最終回覆： 美國獨立戰爭（1775年〜1783年）是美國從英國殖民地擴張為獨立國家的關鍵過程。這期間有不少重大的事件。\n",
            "\n",
            "1. 波士頓茶黨事件（1773年）：這是由美國獨立戰爭導火索之一，英國通過「茶稅法」向北美殖民地出售茶葉，引發新英格蘭地區反對。1773年12月16日反對英國課稅法士绅將倉庫內的茶葉傾倒波士頓海港，成為挑戰英國統治的第一個暴力事件。\n",
            "\n",
            "2. 来克星頓和康科德戰役（1775年4月19日）：此次戰役標誌著美國獨立戰爭的正式開始，對抗英國紅軍的主要武裝力量新英格兰民兵成功在來克星頓和康科德地區進行了擊退红軍的戰役。\n",
            "\n",
            "3. 費城宣言（1776年7月4日）：費城宣言标志著北美13殖民地与其殖民宗主国英国断绝政治联系並成为一个独立自主的自由複合式共和聯邦國家，宣言正式由大陸會議在費城的獨立廳簽署。\n",
            "\n",
            "4. 塔倫頓戰役（1780年10月7日）：塔倫頓戰役是美國獨立戰爭的一場激烈戰役，大陸軍成功擊敗被認為無敵的英軍輕騎兵軍隊之一翼騎兵（British Legion），使得大陸軍軍團士氣大振。\n",
            "\n",
            "5. 結束於約克鎮之勝利（1781年10月19日）：大陸軍在一次重要戰役中擊敗英軍，並在雲山角（Yorktown）迫使英軍投降。該戰役被視為美國獨立戰爭中的決定性戰役。\n",
            "\n",
            "以上是在美國獨立戰爭期間的重要事件，都對戰爭的結局以及最終的獨立結果起了關鍵作用。這些過程顯示了由民兵與民選政府領軍的殖民地如何對抗強大的英國威權，成功奪取自由並成為全球首次由殖民地成功獨立成為國家之一。\n"
          ]
        }
      ],
      "source": [
        "from agents import Agent, Runner, AsyncOpenAI, OpenAIChatCompletionsModel\n",
        "\n",
        "# 初始化 Groq Client\n",
        "groq_client = AsyncOpenAI(\n",
        "    base_url = 'https://api.groq.com/openai/v1',\n",
        "    api_key=GROQ_API_KEY, # 填入對應的金鑰\n",
        ")\n",
        "\n",
        "# 定義英文老師代理人，負責解答英文相關問題\n",
        "english_teacher = Agent(\n",
        "    name=\"English Tutor\",\n",
        "    handoff_description=\"負責回答英文文法、單字與閱讀理解等問題\",\n",
        "    instructions=\"你是一位專業的英文老師，請詳細解釋英文文法、單字用法，並舉例說明，幫助學生理解英文內容。並使用繁體中文回答問題。\",\n",
        "    model=OpenAIChatCompletionsModel(\n",
        "        model=\"qwen-qwq-32b\",\n",
        "        openai_client=groq_client,\n",
        "    )\n",
        ")\n",
        "\n",
        "# 定義歷史老師代理人，負責解答歷史事件與背景問題\n",
        "history_teacher = Agent(\n",
        "    name=\"History Tutor\",\n",
        "    handoff_description=\"負責回答歷史事件、人物和背景問題。\",\n",
        "    instructions=\"你是一位博學的歷史老師，請針對使用者的歷史問題提供詳盡的背景介紹、事件解釋及相關細節。並使用繁體中文回答問題。\",\n",
        "    model=OpenAIChatCompletionsModel(\n",
        "        model=\"qwen-qwq-32b\",\n",
        "        openai_client=groq_client,\n",
        "    )\n",
        ")\n",
        "\n",
        "# 定義分流代理人，根據使用者問題內容自動判斷並轉交給最合適的老師\n",
        "triage_assistant = Agent(\n",
        "    name=\"Triage Agent\",\n",
        "    instructions=\"\"\"\n",
        "請根據以下規則判斷使用者問題的屬性：\n",
        "1. 若問題涉及英文文法、詞彙或閱讀理解，請轉交給「English Tutor」；\n",
        "2. 若問題涉及歷史事件、人物或背景，請轉交給「History Tutor」。\n",
        "請根據使用者提問內容，自動選擇最適合的代理人。\n",
        "若提問非兩個領域的問題，則拒絕回答。\n",
        "\"\"\",\n",
        "    handoffs=[english_teacher, history_teacher],\n",
        "    model=OpenAIChatCompletionsModel(\n",
        "        model=\"qwen-qwq-32b\",\n",
        "        openai_client=groq_client,\n",
        "    )\n",
        ")\n",
        "\n",
        "sample_question = \"請問美國獨立戰爭中有哪些重要事件？\"\n",
        "result = await Runner.run(triage_assistant, sample_question)\n",
        "print(\"最終回覆：\", result.final_output)"
      ]
    },
    {
      "cell_type": "markdown",
      "metadata": {
        "id": "ldr41MACxLtj"
      },
      "source": [
        "## 範例三：Functions（函式工具）範例\n",
        "Agents SDK 本身提供了 Responses API（需付費）讓我們可直接使用官方的 web search、file search 等工具，但若想節省成本，可以透過自定義的函式（function_tool）整合第三方 API 來實作類似功能。\n",
        "\n",
        "以下示範一個「Web 搜尋」的功能，利用 Tavily（每月有 1000 次免費呼叫）來查詢最新的網路資訊，並將結果回傳給代理人。"
      ]
    },
    {
      "cell_type": "code",
      "execution_count": null,
      "metadata": {
        "colab": {
          "base_uri": "https://localhost:8080/"
        },
        "id": "7dBdDWZuxO2m",
        "outputId": "80de6c0d-0152-482c-eeb5-de98c3a26a83"
      },
      "outputs": [
        {
          "name": "stdout",
          "output_type": "stream",
          "text": [
            "\u001b[2K     \u001b[90m━━━━━━━━━━━━━━━━━━━━━━━━━━━━━━━━━━━━━━━━\u001b[0m \u001b[32m91.0/91.0 kB\u001b[0m \u001b[31m2.2 MB/s\u001b[0m eta \u001b[36m0:00:00\u001b[0m\n",
            "\u001b[2K   \u001b[90m━━━━━━━━━━━━━━━━━━━━━━━━━━━━━━━━━━━━━━━━\u001b[0m \u001b[32m43.8/43.8 kB\u001b[0m \u001b[31m2.8 MB/s\u001b[0m eta \u001b[36m0:00:00\u001b[0m\n",
            "\u001b[2K   \u001b[90m━━━━━━━━━━━━━━━━━━━━━━━━━━━━━━━━━━━━━━━━\u001b[0m \u001b[32m1.2/1.2 MB\u001b[0m \u001b[31m19.1 MB/s\u001b[0m eta \u001b[36m0:00:00\u001b[0m\n",
            "\u001b[?25h"
          ]
        }
      ],
      "source": [
        "!pip install -qU tavily-python -q"
      ]
    },
    {
      "cell_type": "code",
      "execution_count": null,
      "metadata": {
        "colab": {
          "base_uri": "https://localhost:8080/"
        },
        "id": "q_H3vPkcxO5i",
        "outputId": "172bbb1e-6a76-4323-e439-17354a8639eb"
      },
      "outputs": [
        {
          "name": "stdout",
          "output_type": "stream",
          "text": [
            "{'query': '請問今天的體育新聞?', 'follow_up_questions': None, 'answer': None, 'images': [], 'results': [{'title': '體育新聞|SPORT598體育網', 'url': 'https://www.sport598.com/', 'content': '提供體育新聞、體壇動態，每日匯整最新體育賽事新聞資訊，掌握nba美國職籃、台灣籃球賽事、mlb美國職棒、中華職棒、日韓職棒、歐洲足球-英超、德甲、西甲、意甲及法甲等五大足球聯賽、網球國際賽事、f1賽車、高爾夫、羽球、桌球、排球、自行車、馬拉松、奧運、運動會等世界體壇動態，鎖定', 'score': 0.6018984, 'raw_content': None}, {'title': '體育 - 中時新聞網', 'url': 'https://www.chinatimes.com/sports/?chdtv', 'content': '體育 - 中時新聞網 ... 溜馬今天（21日）主場迎戰籃網，本只是一場平凡的例行賽，卻在末節意外爆發激烈衝突，連趕來勸架的籃網主帥費南德茲', 'score': 0.49670476, 'raw_content': None}, {'title': '體育 | 即時新聞 - 星島日報', 'url': 'https://std.stheadline.com/realtime/sport/即時-體育', 'content': '即時體育新聞報道，提供國際及本地體育賽事，以及學界體育賽事等新聞資訊，緊貼每個體壇盛事。 ... 現年27歲的華拉夫施尼打法靈活，射門頗具把握力，今季在格拉斯哥流浪射入17球，已突破個人以往的球季的新高，尤其在歐霸盃射入6球，助球隊殺入8強', 'score': 0.47986987, 'raw_content': None}, {'title': '體育新聞 - 即時 - 自由時報電子報', 'url': 'https://news.ltn.com.tw/list/breakingnews/sports', 'content': '體育新聞 - 即時 - 自由時報電子報 為達最佳瀏覽效果，建議使用 Chrome、Firefox 或 Microsoft Edge 的瀏覽器。 請至Edge官網下載 請至FireFox官網下載 請至Google官網下載 即時 熱門 政治 財富自由 軍武 社會 生活 健康 國際 地方 蒐奇 影音 財經 娛樂 汽車 時尚 體育 3 C 評論 藝文 玩咖 食譜 地產 專區 TAIPEI TIMES 求職 Search 自由電子報 自由影音 即時 熱門 政治 軍武 社會 生活 健康 國際 地方 蒐奇 財富自由 財經 娛樂 藝文 汽車 時尚 體育 3 C 評論 玩咖 食譜 地產 專區 服務 自由電子報 APP 自由電子報粉絲團 自由電子報 Line 自由電子報 X 熱門新訊 首頁\\u3000>\\u3000體育 即時 熱門新訊 即時 熱門 政治 財富自由 軍武 社會 生活 健康 國際 地方 蒐奇 財經 娛樂 藝文 汽車 時尚 體育 3C 評論 玩咖 食譜 地產 專區 TAIPEI TIMES 自由時報版權所有不得轉載© 2025 The Liberty Times.', 'score': 0.46759978, 'raw_content': None}, {'title': 'Google 新聞 - 體育 - 最新', 'url': 'https://news.google.com/topics/CAAqKggKIiRDQkFTRlFvSUwyMHZNRFp1ZEdvU0JYcG9MVlJYR2dKVVZ5Z0FQAQ?hl=zh-TW&ceid=TW:zh-Hant', 'content': 'Google新聞體育頻道提供最新的體育新聞和賽事報導。', 'score': 0.45711306, 'raw_content': None}], 'response_time': 1.31}\n"
          ]
        }
      ],
      "source": [
        "from tavily import TavilyClient\n",
        "\n",
        "TAVILY_API_KEY=\"YourTavilyKey\"\n",
        "tavily_client = TavilyClient(api_key=TAVILY_API_KEY)\n",
        "response = tavily_client.search(\"請問今天的體育新聞?\")\n",
        "\n",
        "print(response)"
      ]
    },
    {
      "cell_type": "code",
      "execution_count": null,
      "metadata": {
        "id": "M5KlCLaByFHn"
      },
      "outputs": [],
      "source": [
        "import json\n",
        "\n",
        "from typing_extensions import TypedDict, Any\n",
        "from agents import Agent, Runner, FunctionTool, RunContextWrapper, function_tool, AsyncOpenAI, OpenAIChatCompletionsModel\n",
        "\n",
        "@function_tool\n",
        "async def tavily_search(query: str) -> dict:\n",
        "    \"\"\"\n",
        "    使用 Tavily API 進行網路搜尋，並回傳結果。\n",
        "    Args:\n",
        "        query: 輸入欲搜尋的內容。\n",
        "    \"\"\"\n",
        "    tavily_client = TavilyClient(api_key=TAVILY_API_KEY)\n",
        "    print(f\"Tavily search with query {query}\")\n",
        "    response = tavily_client.search(query)\n",
        "    results = response['results']\n",
        "    print(f\"Search Results: {results}\")\n",
        "\n",
        "    return results\n",
        "\n",
        "# 初始化 Groq Client\n",
        "groq_client = AsyncOpenAI(\n",
        "    base_url='https://api.groq.com/openai/v1',\n",
        "    api_key=GROQ_API_KEY,\n",
        ")\n",
        "\n",
        "# 建立能調用 tavily_search 的代理人\n",
        "tavily_search_agent = Agent(\n",
        "    name=\"Assistant\",\n",
        "    instructions=\"使用中文回答問題。\",\n",
        "    tools=[tavily_search],\n",
        "    model=OpenAIChatCompletionsModel(\n",
        "        model=\"qwen-qwq-32b\",\n",
        "        openai_client=groq_client,\n",
        "    )\n",
        ")"
      ]
    },
    {
      "cell_type": "code",
      "execution_count": null,
      "metadata": {
        "colab": {
          "base_uri": "https://localhost:8080/"
        },
        "id": "wtNVhjDqyFKd",
        "outputId": "af06bec3-39e2-49c2-8afd-ca59014c5bb0"
      },
      "outputs": [
        {
          "name": "stdout",
          "output_type": "stream",
          "text": [
            "Tavily search with query 今天的體育新聞\n",
            "Search Results: [{'title': '體育新聞 | ETtoday新聞雲', 'url': 'https://www.ettoday.net/news/focus/體育/', 'content': '《ETtoday新聞雲》體育新聞最新列表 ... 中信兄弟21日官辦熱身賽4比4打和味全龍，中信外野手曾頌恩今天扛下4棒，單場貢獻4分打點，包括一發2分砲', 'score': 0.6150191, 'raw_content': None}, {'title': '體育新聞 - 即時 - 自由時報電子報', 'url': 'https://news.ltn.com.tw/list/breakingnews/sports', 'content': 'tpbl場均10.2分的雲豹羅斯繳關島最高22分 亞洲盃男籃》阿巴西砍23分 台灣隊狂勝關島40分搶下首勝 亞洲盃男籃》高柏鎧、阿巴西輪流發威!', 'score': 0.5515985, 'raw_content': None}, {'title': '體育│TVBS新聞網', 'url': 'https://news.tvbs.com.tw/sports', 'content': 'tvbs 運動提供最新的體育新聞及影音，包含棒球、籃球、網球及更多運動，為您的生活加滿元氣。', 'score': 0.52232456, 'raw_content': None}, {'title': '即時新聞 - 自由體育', 'url': 'https://sports.ltn.com.tw/breakingnews', 'content': '剛歸隊的柯瑞重摔提前傷退 主帥曝當下狀況（影音） 布朗尼得分寫生涯新高 今日nba戰績 hbl》兩場冠軍賽售票金額破百萬 4隊均分各獲約20萬 tpbl》打', 'score': 0.498902, 'raw_content': None}, {'title': '新浪体育_新浪网', 'url': 'https://sports.sina.com.cn/', 'content': '新浪体育_新浪网 新浪体育 视频 视频 中国足球 国际足球 NBA 微博 新浪体育 热门 NBA 国际足球 中国足球 综合体育 美图 视频 乐弈场第41场周赛 辛俊浩斩获积分实力双榜冠军 关注微信-逍遥红单长跟长红!扫码领今日稳胆 关注微信-狼王荐彩长期稳定盈利!扫码免费看方案 足彩头奖空开滚存1060万 二等开20注22.7万元 周日足彩伤停：利物浦阿诺德伤缺 热刺失8主力 马德里打响榜首大战!数据:皇马或2-1笑傲德比 男子中9千万彩票巨奖先还账 全家去欧洲旅游-图 利物浦英联杯主场或轻取热刺 数据:至少赢2球 2月7日-2月13日足彩赛程：停售5期 欧冠欧罗巴来袭 涅曼暂领先亚巡国际系列赛印度站第三轮 德尚博T8 涅曼暂领先亚巡国际系列赛印度站次轮 德尚博T11 詹姆斯24+11布朗尼5分 湖人大胜送奇才16连败 意甲女排科内3-0布斯托阿西齐奥 朱婷15分冠全场 拉斯海玛赛德勒雷赢欧巡首胜 李昊桐T22丁文一T44 意甲女排科内3-0横扫基耶里豪取19连胜 朱婷轮休 哈登狂砍40分快船力克雄鹿 太阳送奇才13连败 拉斯海玛锦标赛德勒雷领先 李昊桐T30丁文一T63 意甲-穆阿尼处子球卢卡库点射 尤文1-2那不勒斯 乐弈场第40场周赛 龚景荣耿晓东分夺积分实力榜桂冠 拉斯海玛锦标赛阿米蒂奇领先 李昊桐飙升到T5 拉斯海玛锦标赛阿米蒂奇领先 丁文一T25李昊桐T46 高清-LG杯决赛决胜局 柯洁对决卞相壹 热刺欧罗巴寻出线契机 数据示本场有望2-1取胜 曝8亿彩票巨奖诞生 因投注方式创1历史纪录 欧冠-莱奥制胜本纳塞尔助攻 AC米兰1-0赫罗纳 欧冠-哈兰德破门格拉利什建功 曼城2-4大巴黎 双色球14注627万分落5地 二等井喷334注6.6万 1月24日-1月26日足彩赛程：周五周六停售2期 12年无球魔咒有望打破 数据示巴萨2-1取胜 曝24亿彩票巨奖诞生 得主无法匿名或损失14亿 字母哥34+15雄鹿送76人6连败 雷霆大胜篮网 曼城6球大胜伊普斯 足彩任九开1.5万注1091元 韩德君10+14辽宁负浙江 林庭谦27分天津胜宁波 大妈携室友合买揽2586万大奖 潇洒买车不问价-图 意甲-姆班古拉破门小维阿建功 尤文2-0AC米兰 周日足彩伤停：皇马前锋维尼修斯停赛 热刺失7主力 热身赛-U20国青1-4负全北现代 热身赛-戴伟浚破门 上海申花2-0大连英博 字母哥35+12雄鹿大胜猛龙 鹈鹕轻取爵士3连胜 14场比赛出10场首赔 足彩任九开1.2万注1248元 韩德君17+14辽宁险胜宁波 原帅20分山西胜上海 亚历山大40分雷霆复仇骑士 太阳送奇才8连败 国米造4倍冷平难阻931万滚存清空 足彩556注5.2万 关注微信：逍遥红单长跟长红!扫码领今日稳胆 足彩头奖空开滚存1060万 二等开20注22.7万元 男子中9千万彩票巨奖先还账 全家去欧洲旅游 大乐透 大乐透 All Rights Reserved 新浪公司 版权所有 微博 微信 Copyright © 1996-2025 SINA Corporation, All Rights Reserved 新浪公司 版权所有', 'score': 0.40014032, 'raw_content': None}]\n",
            "今天的體育新聞包括：\n",
            "\n",
            "- 在中信兄弟對戰味全龍的比賽中，外野手曾頌恩扛下4棒，單場貢獻4分打點，包括一發2分全壘打。([來源](https://www.ettoday.net/news/focus/體育/))\n",
            "\n",
            "- 其他最新的體育新聞可以看看這個報導：[新聞連結](https://news.ltn.com.tw/list/breakingnews/sports)，其中涵蓋了有關亞洲盃男籃、NBA、意甲、網球、歐冠、熱刺和德甲等的比賽更新。\n",
            "\n",
            "- 更多詳細的體育消息，可以參考新浪體育提供的最新資訊：[新浪體育](https://sports.sina.com.cn/)，內容涉及足球、籃球、網球等多項賽事。\n",
            "\n",
            "以上是目前收集到的一些體育新聞，您可以點擊連結來查看更完整的資訊。\n"
          ]
        }
      ],
      "source": [
        "result = await Runner.run(tavily_search_agent, \"請問今天的體育新聞?\")\n",
        "print(result.final_output)"
      ]
    },
    {
      "cell_type": "code",
      "execution_count": null,
      "metadata": {
        "id": "G9N-chBWLzNF"
      },
      "outputs": [],
      "source": []
    }
  ],
  "metadata": {
    "colab": {
      "provenance": [],
      "include_colab_link": true
    },
    "kernelspec": {
      "display_name": "Python 3",
      "name": "python3"
    },
    "language_info": {
      "name": "python"
    }
  },
  "nbformat": 4,
  "nbformat_minor": 0
}